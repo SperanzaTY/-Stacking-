{
 "cells": [
  {
   "attachments": {},
   "cell_type": "markdown",
   "metadata": {},
   "source": [
    "### 均值中值零填充对比\n",
    "均值填补2015data\\dataset_preprocessing_A.csv\n",
    "\n",
    "中值填补2015data\\dataset_preprocessing_M.csv\n",
    "\n",
    "零填补2015data\\dataset_preprocessing_Z.csv"
   ]
  },
  {
   "cell_type": "code",
   "execution_count": 2,
   "metadata": {},
   "outputs": [
    {
     "name": "stdout",
     "output_type": "stream",
     "text": [
      "Dataset: 2015data/dataset_preprocessing_A.csv\n",
      "Accuracy: 0.8937661581036304\n",
      "Precision: 0.9202389267390447\n",
      "Recall: 0.6542450600095895\n",
      "=======================================\n",
      "Dataset: 2015data/dataset_preprocessing_M.csv\n",
      "Accuracy: 0.895368313731202\n",
      "Precision: 0.9201952622847083\n",
      "Recall: 0.6581191611984225\n",
      "=======================================\n",
      "Dataset: 2015data/dataset_preprocessing_Z.csv\n",
      "Accuracy: 0.8928558424061465\n",
      "Precision: 0.9183274095509619\n",
      "Recall: 0.6504233797749018\n",
      "=======================================\n"
     ]
    }
   ],
   "source": [
    "import pandas as pd\n",
    "from sklearn.ensemble import GradientBoostingClassifier\n",
    "from sklearn.metrics import accuracy_score, precision_score, recall_score\n",
    "from sklearn.model_selection import train_test_split\n",
    "\n",
    "# 数据文件路径\n",
    "filepaths = [\"2015data/dataset_preprocessing_A.csv\", \n",
    "             \"2015data/dataset_preprocessing_M.csv\", \n",
    "             \"2015data/dataset_preprocessing_Z.csv\"]\n",
    "\n",
    "# 用于保存结果的空列表\n",
    "results = []\n",
    "\n",
    "for filepath in filepaths:\n",
    "    # 读取预处理后的数据集\n",
    "    df = pd.read_csv(filepath)\n",
    "\n",
    "    # 划分特征和目标,axis=1按列划分\n",
    "    X = df.drop(['number','binary result', 'categorized result', 'specific result'], axis=1)\n",
    "    y = df['categorized result']\n",
    "\n",
    "    # 将数据划分为训练集和测试集\n",
    "    X_train, X_test, y_train, y_test = train_test_split(X, y, test_size=0.2, random_state=42)\n",
    "\n",
    "    # 训练GBDT模型\n",
    "    gbdt = GradientBoostingClassifier(random_state=0)\n",
    "    gbdt.fit(X_train, y_train)\n",
    "\n",
    "    # GBDT模型评估\n",
    "    y_pred = gbdt.predict(X_test)\n",
    "    accuracy = accuracy_score(y_test, y_pred)\n",
    "    precision = precision_score(y_test, y_pred, average='macro')\n",
    "    recall = recall_score(y_test, y_pred, average='macro')\n",
    "\n",
    "    # 保存结果\n",
    "    results.append({\n",
    "        'dataset': filepath,\n",
    "        'accuracy': accuracy,\n",
    "        'precision': precision,\n",
    "        'recall': recall\n",
    "    })\n",
    "\n",
    "# 打印结果\n",
    "for result in results:\n",
    "    print(f\"Dataset: {result['dataset']}\")\n",
    "    print(f\"Accuracy: {result['accuracy']}\")\n",
    "    print(f\"Precision: {result['precision']}\")\n",
    "    print(f\"Recall: {result['recall']}\")\n",
    "    print(\"=======================================\")\n"
   ]
  },
  {
   "cell_type": "code",
   "execution_count": 9,
   "metadata": {},
   "outputs": [
    {
     "name": "stdout",
     "output_type": "stream",
     "text": [
      "Dataset: 2015data/dataset_preprocessing_M_1.csv\n",
      "Accuracy: 0.8568255470997342\n",
      "Precision: 0.9451773257893171\n",
      "Recall: 0.514901648095753\n",
      "=======================================\n"
     ]
    }
   ],
   "source": [
    "import pandas as pd\n",
    "from sklearn.ensemble import GradientBoostingClassifier\n",
    "from sklearn.metrics import accuracy_score, precision_score, recall_score\n",
    "from sklearn.model_selection import train_test_split\n",
    "\n",
    "# 数据文件路径\n",
    "filepaths = [\"2015data/dataset_preprocessing_M_1.csv\", \n",
    "             \"2015data/dataset_preprocessing_M_2.csv\"]\n",
    "\n",
    "# 用于保存结果的空列表\n",
    "results = []\n",
    "\n",
    "for filepath in filepaths:\n",
    "    # 读取预处理后的数据集\n",
    "    df = pd.read_csv(filepath)\n",
    "\n",
    "    # 划分特征和目标,axis=1按列划分\n",
    "    X = df.drop(['number','binary result', 'categorized result', 'specific result'], axis=1)\n",
    "    y = df['categorized result']\n",
    "\n",
    "    # 将数据划分为训练集和测试集\n",
    "    X_train, X_test, y_train, y_test = train_test_split(X, y, test_size=0.2, random_state=42)\n",
    "\n",
    "    # 训练GBDT模型\n",
    "    gbdt = GradientBoostingClassifier(random_state=0)\n",
    "    gbdt.fit(X_train, y_train)\n",
    "\n",
    "    # GBDT模型评估\n",
    "    y_pred = gbdt.predict(X_test)\n",
    "    accuracy = accuracy_score(y_test, y_pred)\n",
    "    precision = precision_score(y_test, y_pred, average='macro')\n",
    "    recall = recall_score(y_test, y_pred, average='macro')\n",
    "\n",
    "    # 保存结果\n",
    "    results.append({\n",
    "        'dataset': filepath,\n",
    "        'accuracy': accuracy,\n",
    "        'precision': precision,\n",
    "        'recall': recall\n",
    "    })\n",
    "\n",
    "# 打印结果\n",
    "for result in results:\n",
    "    print(f\"Dataset: {result['dataset']}\")\n",
    "    print(f\"Accuracy: {result['accuracy']}\")\n",
    "    print(f\"Precision: {result['precision']}\")\n",
    "    print(f\"Recall: {result['recall']}\")\n",
    "    print(\"=======================================\")\n"
   ]
  }
 ],
 "metadata": {
  "kernelspec": {
   "display_name": "Python 3",
   "language": "python",
   "name": "python3"
  },
  "language_info": {
   "codemirror_mode": {
    "name": "ipython",
    "version": 3
   },
   "file_extension": ".py",
   "mimetype": "text/x-python",
   "name": "python",
   "nbconvert_exporter": "python",
   "pygments_lexer": "ipython3",
   "version": "3.9.7"
  },
  "orig_nbformat": 4
 },
 "nbformat": 4,
 "nbformat_minor": 2
}
